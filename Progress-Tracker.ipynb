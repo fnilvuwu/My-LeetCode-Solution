{
 "cells": [
  {
   "cell_type": "code",
   "execution_count": 2,
   "metadata": {},
   "outputs": [
    {
     "data": {
      "application/vnd.jupyter.widget-view+json": {
       "model_id": "7cffd1705b854b0eb99f77f742a19b7f",
       "version_major": 2,
       "version_minor": 0
      },
      "text/plain": [
       "VBox(children=(HTML(value='<h3>Recode Progress</h3>'), Checkbox(value=True, description='Two Sum (Recode)'), C…"
      ]
     },
     "metadata": {},
     "output_type": "display_data"
    },
    {
     "data": {
      "application/vnd.jupyter.widget-view+json": {
       "model_id": "743cdc1232be4509aedae5f9a2ffa126",
       "version_major": 2,
       "version_minor": 0
      },
      "text/plain": [
       "VBox(children=(HTML(value='<h3>Video Progress</h3>'), Checkbox(value=True, description='Two Sum (Watched Video…"
      ]
     },
     "metadata": {},
     "output_type": "display_data"
    },
    {
     "data": {
      "application/vnd.jupyter.widget-view+json": {
       "model_id": "7fc07d5914094f22990e62f8ecb9a152",
       "version_major": 2,
       "version_minor": 0
      },
      "text/plain": [
       "Button(description='Export to README.md', style=ButtonStyle())"
      ]
     },
     "metadata": {},
     "output_type": "display_data"
    },
    {
     "data": {
      "application/vnd.jupyter.widget-view+json": {
       "model_id": "c6eab5c15eb145e4ae210803bb79da48",
       "version_major": 2,
       "version_minor": 0
      },
      "text/plain": [
       "Output()"
      ]
     },
     "metadata": {},
     "output_type": "display_data"
    }
   ],
   "source": [
    "import ipywidgets as widgets\n",
    "from IPython.display import display, HTML\n",
    "import os\n",
    "\n",
    "# Define initial problem data\n",
    "problems = [\n",
    "    {\"name\": \"Two Sum\", \"link\": \"https://youtu.be/KLlXCFG5TnA?si=Vxa3bdtT7rnBTpIO\", \"video\": True, \"recode\": True, \"status\": \"PASS\"},\n",
    "    {\"name\": \"Add Two Numbers\", \"link\": \"\", \"video\": True, \"recode\": False, \"status\": \"\"},\n",
    "    {\"name\": \"Longest Substring Without Repeating Characters\", \"link\": \"\", \"video\": True, \"recode\": False, \"status\": \"\"},\n",
    "    {\"name\": \"Palindrome Number\", \"link\": \"\", \"video\": True, \"recode\": False, \"status\": \"\"},\n",
    "    {\"name\": \"Valid Parentheses\", \"link\": \"\", \"video\": True, \"recode\": True, \"status\": \"PASS\"},\n",
    "    {\"name\": \"Remove Duplicates from Sorted Array\", \"link\": \"\", \"video\": True, \"recode\": False, \"status\": \"\"},\n",
    "    {\"name\": \"Remove Element\", \"link\": \"\", \"video\": True, \"recode\": False, \"status\": \"\"},\n",
    "    {\"name\": \"Validate Binary Search Tree\", \"link\": \"https://youtu.be/s6ATEkipzow\", \"video\": True, \"recode\": False, \"status\": \"\"},\n",
    "    {\"name\": \"Concatenation of Array\", \"link\": \"\", \"video\": True, \"recode\": True, \"status\": \"PASS\"},\n",
    "]\n",
    "\n",
    "# Create widgets\n",
    "checkboxes_recode = [\n",
    "    widgets.Checkbox(value=problem[\"recode\"], description=f\"{problem['name']} (Recode)\")\n",
    "    for problem in problems\n",
    "]\n",
    "checkboxes_video = [\n",
    "    widgets.Checkbox(value=problem[\"video\"], description=f\"{problem['name']} (Watched Video)\")\n",
    "    for problem in problems\n",
    "]\n",
    "\n",
    "# Button for exporting progress\n",
    "export_button = widgets.Button(description=\"Export to README.md\")\n",
    "output = widgets.Output()\n",
    "\n",
    "# Markdown generator function\n",
    "def generate_markdown(problems):\n",
    "    md_content = \"# Learning Progress\\n\\n\"\n",
    "    md_content += \"| Problem | Watch Video | Recode from Scratch | Status |\\n\"\n",
    "    md_content += \"|---------|-------------|----------------------|--------|\\n\"\n",
    "\n",
    "    for problem in problems:\n",
    "        video_status = \"✅\" if problem[\"video\"] else \"❌\"\n",
    "        recode_status = \"✅\" if problem[\"recode\"] else \"❌\"\n",
    "        problem_name = f\"[{problem['name']}]({problem['link']})\" if problem[\"link\"] else problem[\"name\"]\n",
    "        md_content += f\"| {problem_name} | {video_status} | {recode_status} | {problem['status']} |\\n\"\n",
    "\n",
    "    return md_content\n",
    "\n",
    "# Export button click handler\n",
    "def on_export_button_click(b):\n",
    "    # Update problem data based on checkbox states\n",
    "    for i, problem in enumerate(problems):\n",
    "        problem[\"recode\"] = checkboxes_recode[i].value\n",
    "        problem[\"video\"] = checkboxes_video[i].value\n",
    "\n",
    "    # Generate markdown and save to README.md\n",
    "    markdown_content = generate_markdown(problems)\n",
    "    with open(\"README.md\", \"w\", encoding=\"utf-8\") as file:  # Set encoding to utf-8\n",
    "        file.write(markdown_content)\n",
    "\n",
    "\n",
    "    # Show confirmation\n",
    "    with output:\n",
    "        output.clear_output()\n",
    "        display(HTML(\"<p style='color: green;'>Progress successfully exported to README.md!</p>\"))\n",
    "\n",
    "export_button.on_click(on_export_button_click)\n",
    "\n",
    "# Display widgets\n",
    "display(widgets.VBox([widgets.HTML(\"<h3>Recode Progress</h3>\")] + checkboxes_recode))\n",
    "display(widgets.VBox([widgets.HTML(\"<h3>Video Progress</h3>\")] + checkboxes_video))\n",
    "display(export_button)\n",
    "display(output)\n"
   ]
  }
 ],
 "metadata": {
  "kernelspec": {
   "display_name": "Python 3",
   "language": "python",
   "name": "python3"
  },
  "language_info": {
   "codemirror_mode": {
    "name": "ipython",
    "version": 3
   },
   "file_extension": ".py",
   "mimetype": "text/x-python",
   "name": "python",
   "nbconvert_exporter": "python",
   "pygments_lexer": "ipython3",
   "version": "3.11.9"
  }
 },
 "nbformat": 4,
 "nbformat_minor": 2
}
